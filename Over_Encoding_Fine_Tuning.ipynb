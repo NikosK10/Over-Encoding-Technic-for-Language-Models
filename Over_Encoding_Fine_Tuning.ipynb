{
  "cells": [
    {
      "cell_type": "code",
      "execution_count": null,
      "metadata": {
        "id": "kzHderdcxPB-"
      },
      "outputs": [],
      "source": [
        "import re\n",
        "from collections import Counter\n",
        "import torch\n",
        "import torch.nn as nn\n",
        "from torch.optim import AdamW\n",
        "from torch.utils.data import DataLoader\n",
        "from transformers import GPT2Tokenizer, GPT2LMHeadModel\n",
        "from datasets import load_dataset"
      ]
    },
    {
      "cell_type": "code",
      "execution_count": null,
      "metadata": {
        "colab": {
          "base_uri": "https://localhost:8080/"
        },
        "executionInfo": {
          "elapsed": 3273,
          "status": "ok",
          "timestamp": 1750418273005,
          "user": {
            "displayName": "psoly",
            "userId": "15118615149364233842"
          },
          "user_tz": -180
        },
        "id": "WgtDnMiekBf7",
        "outputId": "ce8da2a2-271d-4699-af9c-bf46b55dca61"
      },
      "outputs": [
        {
          "name": "stderr",
          "output_type": "stream",
          "text": [
            "/usr/local/lib/python3.11/dist-packages/huggingface_hub/utils/_auth.py:94: UserWarning: \n",
            "The secret `HF_TOKEN` does not exist in your Colab secrets.\n",
            "To authenticate with the Hugging Face Hub, create a token in your settings tab (https://huggingface.co/settings/tokens), set it as secret in your Google Colab and restart your session.\n",
            "You will be able to reuse this secret in all of your notebooks.\n",
            "Please note that authentication is recommended but still optional to access public models or datasets.\n",
            "  warnings.warn(\n"
          ]
        }
      ],
      "source": [
        "model_name = \"gpt2\"\n",
        "tokenizer = GPT2Tokenizer.from_pretrained(model_name)\n",
        "model = GPT2LMHeadModel.from_pretrained(model_name)\n",
        "model.eval()\n",
        "\n",
        "for param in model.parameters():\n",
        "    param.requires_grad = False\n"
      ]
    },
    {
      "cell_type": "code",
      "execution_count": null,
      "metadata": {
        "id": "AC_-d1EKvo8I"
      },
      "outputs": [],
      "source": [
        "# Use eos_token as pad_token to enable padding without adding new tokens to the vocab.\n",
        "# This allows batching with padding=True and ensures the model ignores padding in the loss.\n",
        "tokenizer.pad_token = tokenizer.eos_token\n",
        "model.config.pad_token_id = tokenizer.eos_token_id"
      ]
    },
    {
      "cell_type": "code",
      "execution_count": null,
      "metadata": {
        "id": "2FNjsle9kDS1"
      },
      "outputs": [],
      "source": [
        "# Load Wikitext-2 dataset\n",
        "ds = load_dataset(\"wikitext\", \"wikitext-2-raw-v1\", split=\"train\")\n",
        "texts = ds[\"text\"]"
      ]
    },
    {
      "cell_type": "code",
      "execution_count": 26,
      "metadata": {
        "executionInfo": {
          "elapsed": 58,
          "status": "ok",
          "timestamp": 1750423540552,
          "user": {
            "displayName": "psoly",
            "userId": "15118615149364233842"
          },
          "user_tz": -180
        },
        "id": "CN2SgFF5I5GM"
      },
      "outputs": [],
      "source": [
        "# Tokenize the text into word-like units and extract all n-grams of size n\n",
        "def get_ngrams(text, n):\n",
        "    toks = re.findall(r\"\\w+|\\S\", text.lower())\n",
        "    return zip(*(toks[i:] for i in range(n)))\n",
        "\n",
        "# Count frequency of all bigrams and trigrams in the dataset\n",
        "bigrams = Counter()\n",
        "trigrams = Counter()\n",
        "for txt in texts:\n",
        "    bigrams.update(\" \".join(g) for g in get_ngrams(txt, 2))\n",
        "    trigrams.update(\" \".join(g) for g in get_ngrams(txt, 3))\n"
      ]
    },
    {
      "cell_type": "code",
      "execution_count": null,
      "metadata": {
        "colab": {
          "base_uri": "https://localhost:8080/"
        },
        "executionInfo": {
          "elapsed": 573,
          "status": "ok",
          "timestamp": 1750418302114,
          "user": {
            "displayName": "psoly",
            "userId": "15118615149364233842"
          },
          "user_tz": -180
        },
        "id": "G9e7julwkE7H",
        "outputId": "50b95c49-a0dd-4456-cf38-56343d2db98c"
      },
      "outputs": [
        {
          "name": "stdout",
          "output_type": "stream",
          "text": [
            "Selected 100 bigrams and 100 trigrams.\n"
          ]
        },
        {
          "name": "stderr",
          "output_type": "stream",
          "text": [
            "The new embeddings will be initialized from a multivariate normal distribution that has old embeddings' mean and covariance. As described in this article: https://nlp.stanford.edu/~johnhew/vocab-expansion.html. To disable this, use `mean_resizing=False`\n"
          ]
        }
      ],
      "source": [
        "#HERE WE SET HOW MANY N GRAMS WE WANT\n",
        "TOP_K_BIGRAMS = 100\n",
        "TOP_K_TRIGRAMS = 100\n",
        "\n",
        "# pick top-k most frequent ngrams\n",
        "bigram_tokens = [g for g, _ in bigrams.most_common(TOP_K_BIGRAMS)]\n",
        "trigram_tokens = [g for g, _ in trigrams.most_common(TOP_K_TRIGRAMS)]\n",
        "\n",
        "# Print how many n-grams were selected\n",
        "print(f\"Selected {len(bigram_tokens)} bigrams and {len(trigram_tokens)} trigrams.\")\n",
        "\n",
        "# Map each frequent ngram to a unique pseudo-token\n",
        "bigram_to_token = {phrase: f\"<BI_{i}>\" for i, phrase in enumerate(bigram_tokens)}\n",
        "trigram_to_token = {phrase: f\"<TRI_{i}>\" for i, phrase in enumerate(trigram_tokens)}\n",
        "\n",
        "# Combine all pseudo-tokens into a single list to be added to the tokenizer\n",
        "new_tokens = list(bigram_to_token.values()) + list(trigram_to_token.values())\n",
        "\n",
        "# Save the current vocabulary size to use as the index offset for n-gram tokens\n",
        "bi_offset = tokenizer.vocab_size\n",
        "\n",
        "# Add the new pseudo-tokens to the tokenizer's vocabulary\n",
        "tokenizer.add_tokens(new_tokens)\n",
        "\n",
        "# Resize the model's embedding layer to match the new vocabulary size\n",
        "model.resize_token_embeddings(len(tokenizer))\n",
        "\n",
        "# map phrases to token ids using the original tokenizer (before pseudo-tokens are used)\n",
        "# This mapping is used to initialize the n-gram embeddings from the base model\n",
        "bigram_token_ids = {phrase: tokenizer.encode(phrase, add_special_tokens=False)\n",
        "                    for phrase in bigram_tokens}\n",
        "trigram_token_ids = {phrase: tokenizer.encode(phrase, add_special_tokens=False)\n",
        "                     for phrase in trigram_tokens}\n",
        "\n",
        "# Create a unified embedding table for all bigram and trigram pseudo-tokens,\n",
        "# initializing each vector as the mean of the constituent token embeddings.\n",
        "all_phrases = bigram_tokens + trigram_tokens\n",
        "embed_dim = model.transformer.wte.embedding_dim\n",
        "ngram_embeddings = nn.Embedding(len(all_phrases), embed_dim)\n",
        "with torch.no_grad():\n",
        "    for i, phrase in enumerate(all_phrases):\n",
        "        ids = bigram_token_ids.get(phrase) or trigram_token_ids.get(phrase)\n",
        "        if ids:\n",
        "            embeds = torch.stack([model.transformer.wte.weight[tid] for tid in ids])\n",
        "            ngram_embeddings.weight[i] = embeds.mean(dim=0)\n",
        "\n",
        "# Allow gradients to flow through the new ngram embeddings only\n",
        "ngram_embeddings.weight.requires_grad = True"
      ]
    },
    {
      "cell_type": "code",
      "execution_count": null,
      "metadata": {
        "colab": {
          "base_uri": "https://localhost:8080/"
        },
        "executionInfo": {
          "elapsed": 229,
          "status": "ok",
          "timestamp": 1750418310786,
          "user": {
            "displayName": "psoly",
            "userId": "15118615149364233842"
          },
          "user_tz": -180
        },
        "id": "P6TfqIXgkMVH",
        "outputId": "b85c247a-0042-4953-b311-a8b3fe35568f"
      },
      "outputs": [
        {
          "name": "stdout",
          "output_type": "stream",
          "text": [
            "Total parameters: 124747008\n",
            "Trainable parameters: 153600\n"
          ]
        }
      ],
      "source": [
        "# Custom GPT2 wrapper with n-gram support\n",
        "class GPT2WithNgrams(nn.Module):\n",
        "    def __init__(self, base_model, ngram_offset, ngram_embeddings):\n",
        "        super().__init__()\n",
        "        self.model = base_model\n",
        "        self.ngram_offset = ngram_offset\n",
        "        self.ngram_embed = ngram_embeddings\n",
        "\n",
        "    def forward(self, input_ids, attention_mask=None, labels=None):\n",
        "        base_embeds = self.model.transformer.wte(input_ids)\n",
        "        ngram_pos = input_ids >= self.ngram_offset\n",
        "        ngram_indices = (input_ids - self.ngram_offset).clamp(min=0)\n",
        "        ngram_embeds = self.ngram_embed(ngram_indices)\n",
        "        embeds = torch.where(\n",
        "            ngram_pos.unsqueeze(-1),\n",
        "            ngram_embeds,\n",
        "            base_embeds\n",
        "        )\n",
        "        return self.model(inputs_embeds=embeds,\n",
        "                          attention_mask=attention_mask,\n",
        "                          labels=labels)\n",
        "\n",
        "# instantiate extended model and move embeddings to same device\n",
        "device = torch.device(\"cuda\" if torch.cuda.is_available() else \"cpu\")\n",
        "model_ngram = GPT2WithNgrams(model, bi_offset, ngram_embeddings).to(device)\n",
        "\n",
        "total_params = sum(p.numel() for p in model_ngram.parameters())\n",
        "trainable_params = sum(p.numel() for p in model_ngram.parameters() if p.requires_grad)\n",
        "print(f\"Total parameters: {total_params}\")\n",
        "print(f\"Trainable parameters: {trainable_params}\")\n",
        "\n"
      ]
    },
    {
      "cell_type": "code",
      "execution_count": null,
      "metadata": {
        "id": "3V0ch3AqMBlU"
      },
      "outputs": [],
      "source": [
        "# Prepare data loader\n",
        "combined_ngram_to_token = {**bigram_to_token, **trigram_to_token}\n",
        "\n",
        "# This function replaces n-gram phrases in the text with their corresponding pseudo-token strings before tokenization\n",
        "def preprocess(text):\n",
        "    text = text.lower()\n",
        "    for phrase, token in combined_ngram_to_token.items():\n",
        "        text = text.replace(phrase, token)\n",
        "    return text\n",
        "\n",
        "# This function tokenizes a batch of texts after replacing n-grams, and returns tensors for model input\n",
        "def encode_batch(batch_texts):\n",
        "    proc = [preprocess(t) for t in batch_texts if t.strip()]\n",
        "    tok = tokenizer(proc, padding=True, truncation=True, return_tensors=\"pt\")\n",
        "    return tok.input_ids.to(device), tok.attention_mask.to(device)\n",
        "\n",
        "# HERE WE CAN CHANGE HOW MANY TEXTS WE WILL HAVE IN TRAINING\n",
        "subset = ds.select(range(400))\n",
        "\n",
        "loader = DataLoader(subset, batch_size=8, shuffle=True,\n",
        "                    collate_fn=lambda b: encode_batch([d[\"text\"] for d in b]))"
      ]
    },
    {
      "cell_type": "markdown",
      "metadata": {
        "id": "FmBSrUjnb4no"
      },
      "source": [
        "# Fine tune the model of 100 2-grams and 100 3-grams"
      ]
    },
    {
      "cell_type": "code",
      "execution_count": null,
      "metadata": {
        "colab": {
          "base_uri": "https://localhost:8080/"
        },
        "executionInfo": {
          "elapsed": 55832,
          "status": "ok",
          "timestamp": 1750366981679,
          "user": {
            "displayName": "psoly",
            "userId": "15118615149364233842"
          },
          "user_tz": -180
        },
        "id": "1sIumr5xwJmC",
        "outputId": "277ca85e-17c5-4866-ac10-8f9895352fa0"
      },
      "outputs": [
        {
          "name": "stderr",
          "output_type": "stream",
          "text": [
            "`loss_type=None` was set in the config but it is unrecognised.Using the default loss: `ForCausalLMLoss`.\n"
          ]
        },
        {
          "name": "stdout",
          "output_type": "stream",
          "text": [
            "Epoch 1: avg_loss=8.4363\n",
            "Epoch 2: avg_loss=8.0556\n",
            "Epoch 3: avg_loss=7.6568\n",
            "Epoch 4: avg_loss=7.3440\n",
            "Epoch 5: avg_loss=7.2156\n",
            "Epoch 6: avg_loss=6.9040\n",
            "Epoch 7: avg_loss=6.7864\n",
            "Epoch 8: avg_loss=6.6985\n",
            "Epoch 9: avg_loss=6.4384\n",
            "Epoch 10: avg_loss=6.2699\n",
            "Epoch 11: avg_loss=6.3083\n",
            "Epoch 12: avg_loss=6.1365\n",
            "Epoch 13: avg_loss=6.0062\n",
            "Epoch 14: avg_loss=6.0788\n",
            "Epoch 15: avg_loss=6.0646\n",
            "Epoch 16: avg_loss=5.9249\n",
            "Epoch 17: avg_loss=6.0151\n",
            "Epoch 18: avg_loss=5.9471\n",
            "Epoch 19: avg_loss=6.0760\n",
            "Epoch 20: avg_loss=6.0089\n"
          ]
        }
      ],
      "source": [
        "# Fine-tuning loop (only ngram embeddings)\n",
        "optimizer = AdamW([{'params': ngram_embeddings.parameters()}], lr=1e-3)\n",
        "model_ngram.train()\n",
        "for epoch in range(20):\n",
        "    total_loss = 0.0\n",
        "    for input_ids, attn in loader:\n",
        "        out = model_ngram(input_ids=input_ids, attention_mask=attn, labels=input_ids)\n",
        "        loss = out.loss\n",
        "        loss.backward()\n",
        "        optimizer.step()\n",
        "        optimizer.zero_grad()\n",
        "        total_loss += loss.item()\n",
        "    print(f\"Epoch {epoch+1}: avg_loss={total_loss/len(loader):.4f}\")\n"
      ]
    },
    {
      "cell_type": "markdown",
      "metadata": {
        "id": "cW9kR74qATlv"
      },
      "source": [
        "# Fine tune the model of 1000 2-grams and 1000 3-grams"
      ]
    },
    {
      "cell_type": "code",
      "execution_count": null,
      "metadata": {
        "colab": {
          "base_uri": "https://localhost:8080/"
        },
        "executionInfo": {
          "elapsed": 62807,
          "status": "ok",
          "timestamp": 1750413518738,
          "user": {
            "displayName": "psoly",
            "userId": "15118615149364233842"
          },
          "user_tz": -180
        },
        "id": "s7X3ym8aw5AA",
        "outputId": "dec1e925-6794-47f4-a9c8-0fa63fda3fa6"
      },
      "outputs": [
        {
          "name": "stderr",
          "output_type": "stream",
          "text": [
            "`loss_type=None` was set in the config but it is unrecognised.Using the default loss: `ForCausalLMLoss`.\n"
          ]
        },
        {
          "name": "stdout",
          "output_type": "stream",
          "text": [
            "Epoch 1: avg_loss=8.7129\n",
            "Epoch 2: avg_loss=8.3422\n",
            "Epoch 3: avg_loss=7.9007\n",
            "Epoch 4: avg_loss=7.5493\n",
            "Epoch 5: avg_loss=7.3144\n",
            "Epoch 6: avg_loss=7.0585\n",
            "Epoch 7: avg_loss=6.8443\n",
            "Epoch 8: avg_loss=6.7171\n",
            "Epoch 9: avg_loss=6.4223\n",
            "Epoch 10: avg_loss=6.3555\n",
            "Epoch 11: avg_loss=6.3060\n",
            "Epoch 12: avg_loss=6.1512\n",
            "Epoch 13: avg_loss=5.9943\n",
            "Epoch 14: avg_loss=6.0780\n",
            "Epoch 15: avg_loss=5.9219\n",
            "Epoch 16: avg_loss=6.0006\n",
            "Epoch 17: avg_loss=5.8116\n",
            "Epoch 18: avg_loss=5.8897\n",
            "Epoch 19: avg_loss=5.6060\n",
            "Epoch 20: avg_loss=5.6549\n"
          ]
        }
      ],
      "source": [
        "# Fine-tuning loop (only ngram embeddings)\n",
        "optimizer = AdamW([{'params': ngram_embeddings.parameters()}], lr=1e-3)\n",
        "model_ngram.train()\n",
        "for epoch in range(20):\n",
        "    total_loss = 0.0\n",
        "    for input_ids, attn in loader:\n",
        "        out = model_ngram(input_ids=input_ids, attention_mask=attn, labels=input_ids)\n",
        "        loss = out.loss\n",
        "        loss.backward()\n",
        "        optimizer.step()\n",
        "        optimizer.zero_grad()\n",
        "        total_loss += loss.item()\n",
        "    print(f\"Epoch {epoch+1}: avg_loss={total_loss/len(loader):.4f}\")\n"
      ]
    },
    {
      "cell_type": "markdown",
      "metadata": {
        "id": "8prPsHencTUJ"
      },
      "source": [
        "# Fine tune the model of 10.000 2-grams and 10.000 3-grams"
      ]
    },
    {
      "cell_type": "code",
      "execution_count": null,
      "metadata": {
        "colab": {
          "base_uri": "https://localhost:8080/"
        },
        "executionInfo": {
          "elapsed": 109652,
          "status": "ok",
          "timestamp": 1750417536524,
          "user": {
            "displayName": "psoly",
            "userId": "15118615149364233842"
          },
          "user_tz": -180
        },
        "id": "anadAP4XdnD_",
        "outputId": "39773de9-f06c-40cf-95cf-fb444c184b62"
      },
      "outputs": [
        {
          "name": "stderr",
          "output_type": "stream",
          "text": [
            "`loss_type=None` was set in the config but it is unrecognised.Using the default loss: `ForCausalLMLoss`.\n"
          ]
        },
        {
          "name": "stdout",
          "output_type": "stream",
          "text": [
            "Epoch 1: avg_loss=9.0870\n",
            "Epoch 2: avg_loss=8.4613\n",
            "Epoch 3: avg_loss=7.8239\n",
            "Epoch 4: avg_loss=7.4213\n",
            "Epoch 5: avg_loss=7.1261\n",
            "Epoch 6: avg_loss=6.9574\n",
            "Epoch 7: avg_loss=6.7025\n",
            "Epoch 8: avg_loss=6.5701\n",
            "Epoch 9: avg_loss=6.3901\n",
            "Epoch 10: avg_loss=6.0996\n",
            "Epoch 11: avg_loss=5.9457\n",
            "Epoch 12: avg_loss=5.6274\n",
            "Epoch 13: avg_loss=5.6277\n",
            "Epoch 14: avg_loss=5.5622\n",
            "Epoch 15: avg_loss=5.3924\n",
            "Epoch 16: avg_loss=5.2360\n",
            "Epoch 17: avg_loss=5.1335\n",
            "Epoch 18: avg_loss=5.0771\n",
            "Epoch 19: avg_loss=5.0767\n",
            "Epoch 20: avg_loss=5.0347\n"
          ]
        }
      ],
      "source": [
        "# Fine-tuning loop (only ngram embeddings)\n",
        "optimizer = AdamW([{'params': ngram_embeddings.parameters()}], lr=1e-3)\n",
        "model_ngram.train()\n",
        "for epoch in range(20):\n",
        "    total_loss = 0.0\n",
        "    for input_ids, attn in loader:\n",
        "        out = model_ngram(input_ids=input_ids, attention_mask=attn, labels=input_ids)\n",
        "        loss = out.loss\n",
        "        loss.backward()\n",
        "        optimizer.step()\n",
        "        optimizer.zero_grad()\n",
        "        total_loss += loss.item()\n",
        "    print(f\"Epoch {epoch+1}: avg_loss={total_loss/len(loader):.4f}\")\n"
      ]
    },
    {
      "cell_type": "markdown",
      "metadata": {
        "id": "XrcbV5NBdmtO"
      },
      "source": [
        "# Fine tune the model of 100.000 2-grams and 100.000 3-grams"
      ]
    },
    {
      "cell_type": "code",
      "execution_count": null,
      "metadata": {
        "colab": {
          "base_uri": "https://localhost:8080/"
        },
        "executionInfo": {
          "elapsed": 576908,
          "status": "ok",
          "timestamp": 1750415243295,
          "user": {
            "displayName": "psoly",
            "userId": "15118615149364233842"
          },
          "user_tz": -180
        },
        "id": "0ckVLI0r1q7b",
        "outputId": "34c3efd5-4a80-4cb1-dfc3-2bef8d1c501e"
      },
      "outputs": [
        {
          "name": "stdout",
          "output_type": "stream",
          "text": [
            "Epoch 1: avg_loss=9.3197\n",
            "Epoch 2: avg_loss=8.6669\n",
            "Epoch 3: avg_loss=7.9201\n",
            "Epoch 4: avg_loss=7.5167\n",
            "Epoch 5: avg_loss=7.2564\n",
            "Epoch 6: avg_loss=7.1282\n",
            "Epoch 7: avg_loss=6.8079\n",
            "Epoch 8: avg_loss=6.6710\n",
            "Epoch 9: avg_loss=6.0612\n",
            "Epoch 10: avg_loss=5.7676\n",
            "Epoch 11: avg_loss=5.8955\n",
            "Epoch 12: avg_loss=5.8039\n",
            "Epoch 13: avg_loss=5.3279\n",
            "Epoch 14: avg_loss=5.3723\n",
            "Epoch 15: avg_loss=5.1245\n",
            "Epoch 16: avg_loss=4.9245\n",
            "Epoch 17: avg_loss=5.1344\n",
            "Epoch 18: avg_loss=4.6770\n",
            "Epoch 19: avg_loss=4.7849\n",
            "Epoch 20: avg_loss=4.6514\n"
          ]
        }
      ],
      "source": [
        "# Fine-tuning loop (only ngram embeddings)\n",
        "optimizer = AdamW([{'params': ngram_embeddings.parameters()}], lr=1e-3)\n",
        "model_ngram.train()\n",
        "for epoch in range(20):\n",
        "    total_loss = 0.0\n",
        "    for input_ids, attn in loader:\n",
        "        out = model_ngram(input_ids=input_ids, attention_mask=attn, labels=input_ids)\n",
        "        loss = out.loss\n",
        "        loss.backward()\n",
        "        optimizer.step()\n",
        "        optimizer.zero_grad()\n",
        "        total_loss += loss.item()\n",
        "    print(f\"Epoch {epoch+1}: avg_loss={total_loss/len(loader):.4f}\")\n"
      ]
    },
    {
      "cell_type": "code",
      "execution_count": null,
      "metadata": {
        "id": "VRwyv2Bjy8BF"
      },
      "outputs": [],
      "source": [
        "#torch.save(ngram_embeddings.state_dict(), \"ngram_embeddings.pt\")\n",
        "#print(\"Bigram+Trigram embeddings fine-tuned and saved.\")\n"
      ]
    },
    {
      "cell_type": "markdown",
      "metadata": {
        "id": "79lzCTaCQmE6"
      },
      "source": [
        "#OE"
      ]
    },
    {
      "cell_type": "code",
      "execution_count": null,
      "metadata": {
        "id": "jfDBSioDzWzI"
      },
      "outputs": [],
      "source": [
        "import torch.nn.functional as F\n",
        "\n",
        "# Evaluation function for multiple-choice tasks\n",
        "\n",
        "def score_choices(ctx, endings):\n",
        "    # Combine context with each candidate ending and preprocess the result\n",
        "    inputs = []\n",
        "    for ending in endings:\n",
        "        full = preprocess(ctx + \" \" + ending)\n",
        "        inputs.append(full)\n",
        "\n",
        "    # Tokenize all full candidate sequences and send to the appropriate device\n",
        "    encoded = tokenizer(inputs, return_tensors=\"pt\", padding=True, truncation=True).to(device)\n",
        "\n",
        "    with torch.no_grad():\n",
        "\n",
        "        # Run the model with labels to get the loss for each token\n",
        "        outputs = model_ngram(**encoded, labels=encoded[\"input_ids\"])\n",
        "\n",
        "        # Compute cross-entropy loss without reduction (per-token loss)\n",
        "        loss = F.cross_entropy(\n",
        "            outputs.logits.view(-1, outputs.logits.size(-1)),\n",
        "            encoded[\"input_ids\"].view(-1),\n",
        "            ignore_index=tokenizer.pad_token_id,\n",
        "            reduction='none'\n",
        "        )\n",
        "\n",
        "        # Sum loss over all tokens for each input to get total loss per candidate\n",
        "        loss_per_input = loss.view(encoded[\"input_ids\"].shape).sum(dim=1)\n",
        "\n",
        "    # Return list of losses, one per candidate ending\n",
        "    return loss_per_input.tolist()\n"
      ]
    },
    {
      "cell_type": "markdown",
      "metadata": {
        "id": "mRm0HyY_0NFG"
      },
      "source": [
        "#BASELINE"
      ]
    },
    {
      "cell_type": "code",
      "execution_count": null,
      "metadata": {
        "id": "gWm_TpPB0MSm"
      },
      "outputs": [],
      "source": [
        "from transformers import GPT2Tokenizer, GPT2LMHeadModel\n",
        "\n",
        "baseline_tokenizer = GPT2Tokenizer.from_pretrained(\"gpt2\")\n",
        "baseline_model = GPT2LMHeadModel.from_pretrained(\"gpt2\").to(device)\n",
        "\n",
        "def score_choices_baseline(ctx, endings):\n",
        "    inputs = []\n",
        "    for ending in endings:\n",
        "        full = ctx + \" \" + ending\n",
        "        inputs.append(full)\n",
        "\n",
        "    baseline_tokenizer.pad_token = baseline_tokenizer.eos_token\n",
        "    baseline_model.config.pad_token_id = baseline_tokenizer.eos_token_id\n",
        "\n",
        "\n",
        "    encoded = baseline_tokenizer(inputs, return_tensors=\"pt\", padding=True, truncation=True).to(device)\n",
        "    with torch.no_grad():\n",
        "        outputs = baseline_model(**encoded, labels=encoded[\"input_ids\"])\n",
        "        loss = F.cross_entropy(\n",
        "            outputs.logits.view(-1, outputs.logits.size(-1)),\n",
        "            encoded[\"input_ids\"].view(-1),\n",
        "            ignore_index=baseline_tokenizer.pad_token_id,\n",
        "            reduction='none'\n",
        "        )\n",
        "        loss_per_input = loss.view(encoded[\"input_ids\"].shape).sum(dim=1)\n",
        "    return loss_per_input.tolist()\n"
      ]
    },
    {
      "cell_type": "markdown",
      "metadata": {
        "id": "AGbuTt4gzN8a"
      },
      "source": [
        "#Hellaswag dataset\n"
      ]
    },
    {
      "cell_type": "code",
      "execution_count": null,
      "metadata": {
        "colab": {
          "base_uri": "https://localhost:8080/",
          "height": 390
        },
        "executionInfo": {
          "elapsed": 21224,
          "status": "ok",
          "timestamp": 1750413586633,
          "user": {
            "displayName": "psoly",
            "userId": "15118615149364233842"
          },
          "user_tz": -180
        },
        "id": "zrpj7V5FzRz4",
        "outputId": "bbd9873a-706c-4366-82c3-88db3314da1d"
      },
      "outputs": [
        {
          "data": {
            "application/vnd.jupyter.widget-view+json": {
              "model_id": "34b722a2292d4d6f9df85695d910333a",
              "version_major": 2,
              "version_minor": 0
            },
            "text/plain": [
              "README.md:   0%|          | 0.00/6.84k [00:00<?, ?B/s]"
            ]
          },
          "metadata": {},
          "output_type": "display_data"
        },
        {
          "data": {
            "application/vnd.jupyter.widget-view+json": {
              "model_id": "8da9a008c1414d70a5c72ab942565228",
              "version_major": 2,
              "version_minor": 0
            },
            "text/plain": [
              "hellaswag.py:   0%|          | 0.00/4.36k [00:00<?, ?B/s]"
            ]
          },
          "metadata": {},
          "output_type": "display_data"
        },
        {
          "data": {
            "application/vnd.jupyter.widget-view+json": {
              "model_id": "c7e75bd63eef463f947bf71ecc263745",
              "version_major": 2,
              "version_minor": 0
            },
            "text/plain": [
              "dataset_infos.json:   0%|          | 0.00/2.53k [00:00<?, ?B/s]"
            ]
          },
          "metadata": {},
          "output_type": "display_data"
        },
        {
          "name": "stdout",
          "output_type": "stream",
          "text": [
            "The repository for hellaswag contains custom code which must be executed to correctly load the dataset. You can inspect the repository content at https://hf.co/datasets/hellaswag.\n",
            "You can avoid this prompt in future by passing the argument `trust_remote_code=True`.\n",
            "\n",
            "Do you wish to run the custom code? [y/N] y\n"
          ]
        },
        {
          "data": {
            "application/vnd.jupyter.widget-view+json": {
              "model_id": "6d25ec9f3c804f87943a8e0499cb5eb7",
              "version_major": 2,
              "version_minor": 0
            },
            "text/plain": [
              "Downloading data:   0%|          | 0.00/47.5M [00:00<?, ?B/s]"
            ]
          },
          "metadata": {},
          "output_type": "display_data"
        },
        {
          "data": {
            "application/vnd.jupyter.widget-view+json": {
              "model_id": "100f59c2525d4e748b81c135dc43c4d6",
              "version_major": 2,
              "version_minor": 0
            },
            "text/plain": [
              "Downloading data:   0%|          | 0.00/11.8M [00:00<?, ?B/s]"
            ]
          },
          "metadata": {},
          "output_type": "display_data"
        },
        {
          "data": {
            "application/vnd.jupyter.widget-view+json": {
              "model_id": "b41a6008fb924387bd30845403e8759d",
              "version_major": 2,
              "version_minor": 0
            },
            "text/plain": [
              "Downloading data:   0%|          | 0.00/12.2M [00:00<?, ?B/s]"
            ]
          },
          "metadata": {},
          "output_type": "display_data"
        },
        {
          "data": {
            "application/vnd.jupyter.widget-view+json": {
              "model_id": "36abfde56ab24e4c8dc46b7a0d54d517",
              "version_major": 2,
              "version_minor": 0
            },
            "text/plain": [
              "Generating train split:   0%|          | 0/39905 [00:00<?, ? examples/s]"
            ]
          },
          "metadata": {},
          "output_type": "display_data"
        },
        {
          "data": {
            "application/vnd.jupyter.widget-view+json": {
              "model_id": "fe8eafcd03004d75bd2e30ecf61dcd4a",
              "version_major": 2,
              "version_minor": 0
            },
            "text/plain": [
              "Generating test split:   0%|          | 0/10003 [00:00<?, ? examples/s]"
            ]
          },
          "metadata": {},
          "output_type": "display_data"
        },
        {
          "data": {
            "application/vnd.jupyter.widget-view+json": {
              "model_id": "3fe0d305884d415fa424d36d436e1239",
              "version_major": 2,
              "version_minor": 0
            },
            "text/plain": [
              "Generating validation split:   0%|          | 0/10042 [00:00<?, ? examples/s]"
            ]
          },
          "metadata": {},
          "output_type": "display_data"
        }
      ],
      "source": [
        "from datasets import load_dataset\n",
        "\n",
        "hellaswag = load_dataset(\"hellaswag\", split=\"validation\")\n",
        "\n"
      ]
    },
    {
      "cell_type": "markdown",
      "metadata": {
        "id": "50PeAzA-gs6x"
      },
      "source": [
        "#BASELINE"
      ]
    },
    {
      "cell_type": "code",
      "execution_count": null,
      "metadata": {
        "colab": {
          "base_uri": "https://localhost:8080/"
        },
        "executionInfo": {
          "elapsed": 7189,
          "status": "ok",
          "timestamp": 1750357346552,
          "user": {
            "displayName": "psoly",
            "userId": "15118615149364233842"
          },
          "user_tz": -180
        },
        "id": "B7F6jDi-0UDt",
        "outputId": "958bd70e-3d0a-4d5d-a062-19789d2412a2"
      },
      "outputs": [
        {
          "name": "stdout",
          "output_type": "stream",
          "text": [
            "[Baseline GPT-2] Accuracy on HellaSwag: 128/500 = 25.60%\n"
          ]
        }
      ],
      "source": [
        "correct = 0\n",
        "total = 0\n",
        "\n",
        "for example in hellaswag.select(range(500)):  #HERE WE CAN CHANGE THE DOWNSTREAN TASK WE WANT TO TEST AND THE SAMPLES\n",
        "    ctx = example[\"ctx\"]\n",
        "    choices = example[\"endings\"]\n",
        "    gold = int(example[\"label\"])\n",
        "\n",
        "    losses = score_choices_baseline(ctx, choices)\n",
        "    pred = losses.index(min(losses))\n",
        "\n",
        "    if pred == gold:\n",
        "        correct += 1\n",
        "    total += 1\n",
        "\n",
        "print(f\"[Baseline GPT-2] Accuracy on HellaSwag: {correct}/{total} = {correct / total:.2%}\") #WE CAN CHANGE THE NAME OF THE TASK\n"
      ]
    },
    {
      "cell_type": "markdown",
      "metadata": {
        "id": "hz5FazFIbghH"
      },
      "source": [
        "# Testing the model of 100 2-grams and 100 3-grams\n"
      ]
    },
    {
      "cell_type": "code",
      "execution_count": null,
      "metadata": {
        "colab": {
          "base_uri": "https://localhost:8080/"
        },
        "executionInfo": {
          "elapsed": 137702,
          "status": "ok",
          "timestamp": 1750416913646,
          "user": {
            "displayName": "psoly",
            "userId": "15118615149364233842"
          },
          "user_tz": -180
        },
        "id": "nIb7VxqgfuzS",
        "outputId": "456fb775-6443-4f22-f9e9-d448bdcf243c"
      },
      "outputs": [
        {
          "name": "stdout",
          "output_type": "stream",
          "text": [
            "Accuracy on HellaSwag (subset): 131/500 = 26.20%\n"
          ]
        }
      ],
      "source": [
        "correct = 0\n",
        "total = 0\n",
        "\n",
        "for example in hellaswag.select(range(500)):  #HERE WE CAN CHANGE THE DOWNSTREAN TASK AND THE SAMPLES\n",
        "    ctx = example[\"ctx\"]\n",
        "    choices = example[\"endings\"]\n",
        "    gold = int(example[\"label\"])\n",
        "\n",
        "    losses = score_choices(ctx, choices)\n",
        "    pred = losses.index(min(losses))\n",
        "\n",
        "    if pred == gold:\n",
        "        correct += 1\n",
        "    total += 1\n",
        "\n",
        "print(f\"Accuracy on HellaSwag (subset): {correct}/{total} = {correct / total:.2%}\") #WE CAN CHANGE THE NAME OF THE TASK\n"
      ]
    },
    {
      "cell_type": "markdown",
      "metadata": {
        "id": "yewudKjrAzoW"
      },
      "source": [
        "# Testing the model of 1000 2-grams and 1000 3-grams\n"
      ]
    },
    {
      "cell_type": "code",
      "execution_count": null,
      "metadata": {
        "colab": {
          "base_uri": "https://localhost:8080/"
        },
        "executionInfo": {
          "elapsed": 7082,
          "status": "ok",
          "timestamp": 1750367096290,
          "user": {
            "displayName": "psoly",
            "userId": "15118615149364233842"
          },
          "user_tz": -180
        },
        "id": "jt22HzzabofK",
        "outputId": "a3a581b1-a001-4a48-ae2d-6979c43f0c49"
      },
      "outputs": [
        {
          "name": "stdout",
          "output_type": "stream",
          "text": [
            "Accuracy on HellaSwag (subset): 137/500 = 27.40%\n"
          ]
        }
      ],
      "source": [
        "correct = 0\n",
        "total = 0\n",
        "\n",
        "for example in hellaswag.select(range(500)):  #HERE WE CAN CHANGE THE DOWNSTREAN TASK AND THE SAMPLES\n",
        "    ctx = example[\"ctx\"]\n",
        "    choices = example[\"endings\"]\n",
        "    gold = int(example[\"label\"])\n",
        "\n",
        "    losses = score_choices(ctx, choices)\n",
        "    pred = losses.index(min(losses))\n",
        "\n",
        "    if pred == gold:\n",
        "        correct += 1\n",
        "    total += 1\n",
        "\n",
        "print(f\"Accuracy on HellaSwag (subset): {correct}/{total} = {correct / total:.2%}\") #WE CAN CHANGE THE NAME OF THE TASK\n"
      ]
    },
    {
      "cell_type": "markdown",
      "metadata": {
        "id": "USgyaz5bbI3a"
      },
      "source": [
        "# Testing the model of 10.000 2-grams and 10.000 3-grams\n",
        "\n",
        "\n",
        "\n"
      ]
    },
    {
      "cell_type": "code",
      "execution_count": null,
      "metadata": {
        "colab": {
          "base_uri": "https://localhost:8080/"
        },
        "executionInfo": {
          "elapsed": 8225,
          "status": "ok",
          "timestamp": 1750413607182,
          "user": {
            "displayName": "psoly",
            "userId": "15118615149364233842"
          },
          "user_tz": -180
        },
        "id": "SpkfUXuKAvk9",
        "outputId": "1651152e-5b48-4870-c01b-e8c2ce301639"
      },
      "outputs": [
        {
          "name": "stdout",
          "output_type": "stream",
          "text": [
            "Accuracy on HellaSwag (subset): 138/500 = 27.60%\n"
          ]
        }
      ],
      "source": [
        "correct = 0\n",
        "total = 0\n",
        "\n",
        "for example in hellaswag.select(range(500)):  #HERE WE CAN CHANGE THE DOWNSTREAN TASK AND THE SAMPLES\n",
        "    ctx = example[\"ctx\"]\n",
        "    choices = example[\"endings\"]\n",
        "    gold = int(example[\"label\"])\n",
        "\n",
        "    losses = score_choices(ctx, choices)\n",
        "    pred = losses.index(min(losses))\n",
        "\n",
        "    if pred == gold:\n",
        "        correct += 1\n",
        "    total += 1\n",
        "\n",
        "print(f\"Accuracy on HellaSwag (subset): {correct}/{total} = {correct / total:.2%}\") #WE CAN CHANGE THE NAME OF THE TASK\n"
      ]
    },
    {
      "cell_type": "markdown",
      "metadata": {
        "id": "yP1mW6Dkfoc5"
      },
      "source": [
        "# Testing the model of 100.000 2-grams and 100.000 3-grams\n"
      ]
    },
    {
      "cell_type": "code",
      "execution_count": null,
      "metadata": {
        "colab": {
          "base_uri": "https://localhost:8080/"
        },
        "executionInfo": {
          "elapsed": 18798,
          "status": "ok",
          "timestamp": 1750362444157,
          "user": {
            "displayName": "psoly",
            "userId": "15118615149364233842"
          },
          "user_tz": -180
        },
        "id": "VqJ7KikNzYmj",
        "outputId": "3ccd82e0-1a49-4695-e1c0-98e3254afcfe"
      },
      "outputs": [
        {
          "name": "stdout",
          "output_type": "stream",
          "text": [
            "Accuracy on HellaSwag (subset): 144/500 = 28.80%\n"
          ]
        }
      ],
      "source": [
        "correct = 0\n",
        "total = 0\n",
        "\n",
        "for example in hellaswag.select(range(500)):  #HERE WE CAN CHANGE THE DOWNSTREAN TASK AND THE SAMPLES\n",
        "    ctx = example[\"ctx\"]\n",
        "    choices = example[\"endings\"]\n",
        "    gold = int(example[\"label\"])\n",
        "\n",
        "    losses = score_choices(ctx, choices)\n",
        "    pred = losses.index(min(losses))\n",
        "\n",
        "    if pred == gold:\n",
        "        correct += 1\n",
        "    total += 1\n",
        "\n",
        "print(f\"Accuracy on HellaSwag (subset): {correct}/{total} = {correct / total:.2%}\") #WE CAN CHANGE THE NAME OF THE TASK\n"
      ]
    },
    {
      "cell_type": "markdown",
      "metadata": {
        "id": "2iumNbtIfwvF"
      },
      "source": [
        "#PIQA DATASET"
      ]
    },
    {
      "cell_type": "code",
      "execution_count": null,
      "metadata": {
        "colab": {
          "base_uri": "https://localhost:8080/",
          "height": 327
        },
        "executionInfo": {
          "elapsed": 11111,
          "status": "ok",
          "timestamp": 1750413648070,
          "user": {
            "displayName": "psoly",
            "userId": "15118615149364233842"
          },
          "user_tz": -180
        },
        "id": "WM8_wvILf8Y_",
        "outputId": "4ece03c1-e597-4966-e39a-98426004233c"
      },
      "outputs": [
        {
          "data": {
            "application/vnd.jupyter.widget-view+json": {
              "model_id": "9c8491c08c67440bbf546fce34092c60",
              "version_major": 2,
              "version_minor": 0
            },
            "text/plain": [
              "README.md:   0%|          | 0.00/8.41k [00:00<?, ?B/s]"
            ]
          },
          "metadata": {},
          "output_type": "display_data"
        },
        {
          "data": {
            "application/vnd.jupyter.widget-view+json": {
              "model_id": "6db800c0c2b340e9a39b6183c85e0256",
              "version_major": 2,
              "version_minor": 0
            },
            "text/plain": [
              "piqa.py:   0%|          | 0.00/5.36k [00:00<?, ?B/s]"
            ]
          },
          "metadata": {},
          "output_type": "display_data"
        },
        {
          "name": "stdout",
          "output_type": "stream",
          "text": [
            "The repository for piqa contains custom code which must be executed to correctly load the dataset. You can inspect the repository content at https://hf.co/datasets/piqa.\n",
            "You can avoid this prompt in future by passing the argument `trust_remote_code=True`.\n",
            "\n",
            "Do you wish to run the custom code? [y/N] y\n"
          ]
        },
        {
          "data": {
            "application/vnd.jupyter.widget-view+json": {
              "model_id": "aafd37d2d2c84363b01d2fc022c40c5f",
              "version_major": 2,
              "version_minor": 0
            },
            "text/plain": [
              "Downloading data:   0%|          | 0.00/1.82M [00:00<?, ?B/s]"
            ]
          },
          "metadata": {},
          "output_type": "display_data"
        },
        {
          "data": {
            "application/vnd.jupyter.widget-view+json": {
              "model_id": "df54d5fb92ae4b888c0aba8c2cbb7558",
              "version_major": 2,
              "version_minor": 0
            },
            "text/plain": [
              "Downloading data:   0%|          | 0.00/220k [00:00<?, ?B/s]"
            ]
          },
          "metadata": {},
          "output_type": "display_data"
        },
        {
          "data": {
            "application/vnd.jupyter.widget-view+json": {
              "model_id": "dd594da727ab4ef6954cdf63d356040a",
              "version_major": 2,
              "version_minor": 0
            },
            "text/plain": [
              "Generating train split:   0%|          | 0/16113 [00:00<?, ? examples/s]"
            ]
          },
          "metadata": {},
          "output_type": "display_data"
        },
        {
          "data": {
            "application/vnd.jupyter.widget-view+json": {
              "model_id": "4dfe96d5a98843a9a7081ea02bbae6ac",
              "version_major": 2,
              "version_minor": 0
            },
            "text/plain": [
              "Generating test split:   0%|          | 0/3084 [00:00<?, ? examples/s]"
            ]
          },
          "metadata": {},
          "output_type": "display_data"
        },
        {
          "data": {
            "application/vnd.jupyter.widget-view+json": {
              "model_id": "95004087390b4770a816854886778d32",
              "version_major": 2,
              "version_minor": 0
            },
            "text/plain": [
              "Generating validation split:   0%|          | 0/1838 [00:00<?, ? examples/s]"
            ]
          },
          "metadata": {},
          "output_type": "display_data"
        }
      ],
      "source": [
        "from datasets import load_dataset\n",
        "\n",
        "piqa = load_dataset(\"piqa\", split=\"validation\")\n",
        "\n"
      ]
    },
    {
      "cell_type": "markdown",
      "metadata": {
        "id": "giYrLFQ8gl3y"
      },
      "source": [
        "#BASELINE"
      ]
    },
    {
      "cell_type": "code",
      "execution_count": null,
      "metadata": {
        "colab": {
          "base_uri": "https://localhost:8080/"
        },
        "executionInfo": {
          "elapsed": 5930,
          "status": "ok",
          "timestamp": 1750359270531,
          "user": {
            "displayName": "psoly",
            "userId": "15118615149364233842"
          },
          "user_tz": -180
        },
        "id": "dEI69qv-f_Km",
        "outputId": "f81c9175-ce8a-48d7-ff9e-dbc0522af2a8"
      },
      "outputs": [
        {
          "name": "stdout",
          "output_type": "stream",
          "text": [
            "[Baseline GPT-2] Accuracy on PIQA: 272/500 = 54.40%\n"
          ]
        }
      ],
      "source": [
        "correct = 0\n",
        "total = 0\n",
        "\n",
        "for example in piqa.select(range(500)):  #HERE WE CAN CHANGE THE DOWNSTREAN TASK WE WANT TO TEST AND THE SAMPLES\n",
        "    ctx = example[\"goal\"]\n",
        "    choices = [example[\"sol1\"], example[\"sol2\"]]\n",
        "    gold = int(example[\"label\"])\n",
        "\n",
        "    losses = score_choices_baseline(ctx, choices)\n",
        "    pred = losses.index(min(losses))\n",
        "\n",
        "    if pred == gold:\n",
        "        correct += 1\n",
        "    total += 1\n",
        "\n",
        "print(f\"[Baseline GPT-2] Accuracy on PIQA: {correct}/{total} = {correct / total:.2%}\") #WE CAN CHANGE THE NAME OF THE TASK\n"
      ]
    },
    {
      "cell_type": "markdown",
      "metadata": {
        "id": "u8xoXRbBgS9N"
      },
      "source": [
        "# Testing the model of 100 2-grams and 100 3-grams\n",
        "\n",
        "\n",
        "\n"
      ]
    },
    {
      "cell_type": "code",
      "execution_count": null,
      "metadata": {
        "colab": {
          "base_uri": "https://localhost:8080/"
        },
        "executionInfo": {
          "elapsed": 6108,
          "status": "ok",
          "timestamp": 1750367218122,
          "user": {
            "displayName": "psoly",
            "userId": "15118615149364233842"
          },
          "user_tz": -180
        },
        "id": "RVGNYqiuf4HB",
        "outputId": "98a330c4-2b71-4281-a9f5-c999565a7be7"
      },
      "outputs": [
        {
          "name": "stdout",
          "output_type": "stream",
          "text": [
            "Accuracy on PIQA (subset): 259/500 = 51.80%\n"
          ]
        }
      ],
      "source": [
        "correct = 0\n",
        "total = 0\n",
        "\n",
        "for example in piqa.select(range(500)):  #HERE WE CAN CHANGE THE DOWNSTREAN TASK AND THE SAMPLES\n",
        "    ctx = example[\"goal\"]\n",
        "    choices = [example[\"sol1\"], example[\"sol2\"]]\n",
        "    gold = int(example[\"label\"])\n",
        "\n",
        "    losses = score_choices(ctx, choices)\n",
        "    pred = losses.index(min(losses))\n",
        "\n",
        "    if pred == gold:\n",
        "        correct += 1\n",
        "    total += 1\n",
        "\n",
        "print(f\"Accuracy on PIQA (subset): {correct}/{total} = {correct / total:.2%}\") #WE CAN CHANGE THE NAME OF THE TASK\n"
      ]
    },
    {
      "cell_type": "markdown",
      "metadata": {
        "id": "HRjvxis4ySvQ"
      },
      "source": [
        "# Testing the model of 1.000 2-grams and 1.000 3-grams\n"
      ]
    },
    {
      "cell_type": "code",
      "execution_count": null,
      "metadata": {
        "colab": {
          "base_uri": "https://localhost:8080/"
        },
        "executionInfo": {
          "elapsed": 6728,
          "status": "ok",
          "timestamp": 1750413662870,
          "user": {
            "displayName": "psoly",
            "userId": "15118615149364233842"
          },
          "user_tz": -180
        },
        "id": "9BbYxFlbC2iV",
        "outputId": "8bdaca95-bc6f-4d9b-8159-38a8120af5c6"
      },
      "outputs": [
        {
          "name": "stdout",
          "output_type": "stream",
          "text": [
            "Accuracy on PIQA (subset): 246/500 = 49.20%\n"
          ]
        }
      ],
      "source": [
        "correct = 0\n",
        "total = 0\n",
        "\n",
        "for example in piqa.select(range(500)):  #HERE WE CAN CHANGE THE DOWNSTREAN TASK AND THE SAMPLES\n",
        "    ctx = example[\"goal\"]\n",
        "    choices = [example[\"sol1\"], example[\"sol2\"]]\n",
        "    gold = int(example[\"label\"])\n",
        "\n",
        "    losses = score_choices(ctx, choices)\n",
        "    pred = losses.index(min(losses))\n",
        "\n",
        "    if pred == gold:\n",
        "        correct += 1\n",
        "    total += 1\n",
        "\n",
        "print(f\"Accuracy on PIQA (subset): {correct}/{total} = {correct / total:.2%}\") #WE CAN CHANGE THE NAME OF THE TASK\n"
      ]
    },
    {
      "cell_type": "markdown",
      "metadata": {
        "id": "UwlNy5YAgUbt"
      },
      "source": [
        "# Testing the model of 10.000 2-grams and 10.000 3-grams\n"
      ]
    },
    {
      "cell_type": "code",
      "execution_count": null,
      "metadata": {
        "colab": {
          "base_uri": "https://localhost:8080/"
        },
        "executionInfo": {
          "elapsed": 38521,
          "status": "ok",
          "timestamp": 1750359902960,
          "user": {
            "displayName": "psoly",
            "userId": "15118615149364233842"
          },
          "user_tz": -180
        },
        "id": "umGkpdq5gfeQ",
        "outputId": "d86d655f-0954-4059-ff5e-9c6fa455bc0c"
      },
      "outputs": [
        {
          "name": "stdout",
          "output_type": "stream",
          "text": [
            "Accuracy on PIQA (subset): 257/500 = 51.40%\n"
          ]
        }
      ],
      "source": [
        "correct = 0\n",
        "total = 0\n",
        "\n",
        "for example in piqa.select(range(500)):  #HERE WE CAN CHANGE THE DOWNSTREAN TASK AND THE SAMPLES\n",
        "    ctx = example[\"goal\"]\n",
        "    choices = [example[\"sol1\"], example[\"sol2\"]]\n",
        "    gold = int(example[\"label\"])\n",
        "\n",
        "    losses = score_choices(ctx, choices)\n",
        "    pred = losses.index(min(losses))\n",
        "\n",
        "    if pred == gold:\n",
        "        correct += 1\n",
        "    total += 1\n",
        "\n",
        "print(f\"Accuracy on PIQA (subset): {correct}/{total} = {correct / total:.2%}\") #WE CAN CHANGE THE NAME OF THE TASK\n"
      ]
    },
    {
      "cell_type": "markdown",
      "metadata": {
        "id": "QYi0ScRzgVAc"
      },
      "source": [
        "# Testing the model of 100.000 2-grams and 100.000 3-grams\n"
      ]
    },
    {
      "cell_type": "code",
      "execution_count": null,
      "metadata": {
        "colab": {
          "base_uri": "https://localhost:8080/"
        },
        "executionInfo": {
          "elapsed": 65624,
          "status": "ok",
          "timestamp": 1750416552465,
          "user": {
            "displayName": "psoly",
            "userId": "15118615149364233842"
          },
          "user_tz": -180
        },
        "id": "liwEf7N8gj3u",
        "outputId": "6553d0ea-ca5a-4001-d8d3-719f0c9c46b9"
      },
      "outputs": [
        {
          "name": "stdout",
          "output_type": "stream",
          "text": [
            "Accuracy on PIQA (subset): 253/500 = 50.60%\n"
          ]
        }
      ],
      "source": [
        "correct = 0\n",
        "total = 0\n",
        "\n",
        "for example in piqa.select(range(500)):  #HERE WE CAN CHANGE THE DOWNSTREAN TASK AND THE SAMPLES\n",
        "    ctx = example[\"goal\"]\n",
        "    choices = [example[\"sol1\"], example[\"sol2\"]]\n",
        "    gold = int(example[\"label\"])\n",
        "\n",
        "    losses = score_choices(ctx, choices)\n",
        "    pred = losses.index(min(losses))\n",
        "\n",
        "    if pred == gold:\n",
        "        correct += 1\n",
        "    total += 1\n",
        "\n",
        "print(f\"Accuracy on PIQA (subset): {correct}/{total} = {correct / total:.2%}\") #WE CAN CHANGE THE NAME OF THE TASK\n"
      ]
    },
    {
      "cell_type": "markdown",
      "metadata": {
        "id": "E4Qo9JBhzeLZ"
      },
      "source": [
        "#Story Cloze DATASET"
      ]
    },
    {
      "cell_type": "code",
      "execution_count": null,
      "metadata": {
        "colab": {
          "base_uri": "https://localhost:8080/"
        },
        "executionInfo": {
          "elapsed": 2357,
          "status": "ok",
          "timestamp": 1750418420531,
          "user": {
            "displayName": "psoly",
            "userId": "15118615149364233842"
          },
          "user_tz": -180
        },
        "id": "NbB_lM7OzdQy",
        "outputId": "e9ef2106-1d5f-48f5-edae-f1bbfc76ce4e"
      },
      "outputs": [
        {
          "name": "stdout",
          "output_type": "stream",
          "text": [
            "Drive already mounted at /content/drive; to attempt to forcibly remount, call drive.mount(\"/content/drive\", force_remount=True).\n"
          ]
        }
      ],
      "source": [
        "from datasets import load_dataset\n",
        "\n",
        "from google.colab import drive\n",
        "drive.mount('/content/drive')\n",
        "\n",
        "\n",
        "from datasets import load_dataset\n",
        "\n",
        "val_path = \"/content/drive/MyDrive/Colab Notebooks/cloze_test_val__winter2018-cloze_test_ALL_val - 1 - 1.csv\"\n",
        "story_cloze = load_dataset(\"csv\", data_files={\"validation\": val_path})\n",
        "\n",
        "\n",
        "\n"
      ]
    },
    {
      "cell_type": "markdown",
      "metadata": {
        "id": "w-q2LzqJzhyG"
      },
      "source": [
        "#BASELINE"
      ]
    },
    {
      "cell_type": "code",
      "execution_count": null,
      "metadata": {
        "colab": {
          "base_uri": "https://localhost:8080/"
        },
        "executionInfo": {
          "elapsed": 7046,
          "status": "ok",
          "timestamp": 1750418432414,
          "user": {
            "displayName": "psoly",
            "userId": "15118615149364233842"
          },
          "user_tz": -180
        },
        "id": "eFbFjo-WzlYs",
        "outputId": "f3e5d165-deb0-49cc-b605-681b3243751c"
      },
      "outputs": [
        {
          "name": "stdout",
          "output_type": "stream",
          "text": [
            "Accuracy on Story Cloze 2018 (validation): 246/500 = 49.20%\n"
          ]
        }
      ],
      "source": [
        "correct = 0\n",
        "total = 0\n",
        "\n",
        "for example in story_cloze[\"validation\"].select(range(500)):\n",
        "    ctx = \" \".join([example[f\"InputSentence{i}\"] for i in range(1, 5)])\n",
        "    choices = [example[\"RandomFifthSentenceQuiz1\"], example[\"RandomFifthSentenceQuiz2\"]]\n",
        "    gold = 0\n",
        "\n",
        "    losses = score_choices_baseline(ctx, choices)\n",
        "    pred = losses.index(min(losses))\n",
        "\n",
        "    if pred == gold:\n",
        "        correct += 1\n",
        "    total += 1\n",
        "\n",
        "print(f\"Accuracy on Story Cloze 2018 (validation): {correct}/{total} = {correct / total:.2%}\")"
      ]
    },
    {
      "cell_type": "markdown",
      "metadata": {
        "id": "ehdOyO54zlLO"
      },
      "source": [
        "# Testing the model of 100 2-grams and 100 3-grams\n"
      ]
    },
    {
      "cell_type": "code",
      "execution_count": null,
      "metadata": {
        "colab": {
          "base_uri": "https://localhost:8080/"
        },
        "executionInfo": {
          "elapsed": 6227,
          "status": "ok",
          "timestamp": 1750416472761,
          "user": {
            "displayName": "psoly",
            "userId": "15118615149364233842"
          },
          "user_tz": -180
        },
        "id": "CzWFgcxlziEV",
        "outputId": "0411744d-c760-4ffc-f6a3-9851a199381a"
      },
      "outputs": [
        {
          "name": "stdout",
          "output_type": "stream",
          "text": [
            "Accuracy on Story Cloze 2018 (validation): 253/500 = 50.60%\n"
          ]
        }
      ],
      "source": [
        "correct = 0\n",
        "total = 0\n",
        "\n",
        "for example in story_cloze[\"validation\"].select(range(500)):\n",
        "    ctx = \" \".join([example[f\"InputSentence{i}\"] for i in range(1, 5)])\n",
        "    choices = [example[\"RandomFifthSentenceQuiz1\"], example[\"RandomFifthSentenceQuiz2\"]]\n",
        "    gold = 0\n",
        "\n",
        "    losses = score_choices(ctx, choices)\n",
        "    pred = losses.index(min(losses))\n",
        "\n",
        "    if pred == gold:\n",
        "        correct += 1\n",
        "    total += 1\n",
        "\n",
        "print(f\"Accuracy on Story Cloze 2018 (validation): {correct}/{total} = {correct / total:.2%}\")"
      ]
    },
    {
      "cell_type": "markdown",
      "metadata": {
        "id": "SiXGQEKazloD"
      },
      "source": [
        "# Testing the model of 1.000 2-grams and 1.000 3-grams\n"
      ]
    },
    {
      "cell_type": "code",
      "execution_count": null,
      "metadata": {
        "colab": {
          "base_uri": "https://localhost:8080/"
        },
        "executionInfo": {
          "elapsed": 13201,
          "status": "ok",
          "timestamp": 1750417634556,
          "user": {
            "displayName": "psoly",
            "userId": "15118615149364233842"
          },
          "user_tz": -180
        },
        "id": "oHe10wNQzmVH",
        "outputId": "dd2ee07c-b6c0-41e5-95a0-36018887b4a5"
      },
      "outputs": [
        {
          "name": "stdout",
          "output_type": "stream",
          "text": [
            "Accuracy on Story Cloze 2018 (validation): 257/500 = 51.40%\n"
          ]
        }
      ],
      "source": [
        "correct = 0\n",
        "total = 0\n",
        "\n",
        "for example in story_cloze[\"validation\"].select(range(500)):\n",
        "    ctx = \" \".join([example[f\"InputSentence{i}\"] for i in range(1, 5)])\n",
        "    choices = [example[\"RandomFifthSentenceQuiz1\"], example[\"RandomFifthSentenceQuiz2\"]]\n",
        "    gold = 0\n",
        "\n",
        "    losses = score_choices(ctx, choices)\n",
        "    pred = losses.index(min(losses))\n",
        "\n",
        "    if pred == gold:\n",
        "        correct += 1\n",
        "    total += 1\n",
        "\n",
        "print(f\"Accuracy on Story Cloze 2018 (validation): {correct}/{total} = {correct / total:.2%}\")"
      ]
    },
    {
      "cell_type": "markdown",
      "metadata": {
        "id": "wgsyV5zazmEr"
      },
      "source": [
        "# Testing the model of 10.000 2-grams and 10.000 3-grams\n"
      ]
    },
    {
      "cell_type": "code",
      "execution_count": null,
      "metadata": {
        "colab": {
          "base_uri": "https://localhost:8080/"
        },
        "executionInfo": {
          "elapsed": 7713,
          "status": "ok",
          "timestamp": 1750418052833,
          "user": {
            "displayName": "psoly",
            "userId": "15118615149364233842"
          },
          "user_tz": -180
        },
        "id": "gPckK8Rtzl2o",
        "outputId": "d8ee79aa-8e73-4b90-af3e-42725a5dce7f"
      },
      "outputs": [
        {
          "name": "stdout",
          "output_type": "stream",
          "text": [
            "Accuracy on Story Cloze 2018 (validation): 258/500 = 51.60%\n"
          ]
        }
      ],
      "source": [
        "correct = 0\n",
        "total = 0\n",
        "\n",
        "for example in story_cloze[\"validation\"].select(range(500)):\n",
        "    ctx = \" \".join([example[f\"InputSentence{i}\"] for i in range(1, 5)])\n",
        "    choices = [example[\"RandomFifthSentenceQuiz1\"], example[\"RandomFifthSentenceQuiz2\"]]\n",
        "    gold = 0\n",
        "\n",
        "    losses = score_choices(ctx, choices)\n",
        "    pred = losses.index(min(losses))\n",
        "\n",
        "    if pred == gold:\n",
        "        correct += 1\n",
        "    total += 1\n",
        "\n",
        "print(f\"Accuracy on Story Cloze 2018 (validation): {correct}/{total} = {correct / total:.2%}\")"
      ]
    },
    {
      "cell_type": "markdown",
      "metadata": {
        "id": "tv0uO6Kdz-Mn"
      },
      "source": [
        "# Testing the model of 100.000 2-grams and 100.000 3-grams\n"
      ]
    },
    {
      "cell_type": "code",
      "execution_count": null,
      "metadata": {
        "colab": {
          "base_uri": "https://localhost:8080/"
        },
        "executionInfo": {
          "elapsed": 78164,
          "status": "ok",
          "timestamp": 1750416409317,
          "user": {
            "displayName": "psoly",
            "userId": "15118615149364233842"
          },
          "user_tz": -180
        },
        "id": "v_KLo8bdz9VM",
        "outputId": "c5bc1d49-534e-4c98-a0cc-f47748d69941"
      },
      "outputs": [
        {
          "name": "stdout",
          "output_type": "stream",
          "text": [
            "Accuracy on Story Cloze 2018 (validation): 282/500 = 56.40%\n"
          ]
        }
      ],
      "source": [
        "correct = 0\n",
        "total = 0\n",
        "\n",
        "for example in story_cloze[\"validation\"].select(range(500)):\n",
        "    ctx = \" \".join([example[f\"InputSentence{i}\"] for i in range(1, 5)])\n",
        "    choices = [example[\"RandomFifthSentenceQuiz1\"], example[\"RandomFifthSentenceQuiz2\"]]\n",
        "    gold = 0\n",
        "\n",
        "    losses = score_choices(ctx, choices)\n",
        "    pred = losses.index(min(losses))\n",
        "\n",
        "    if pred == gold:\n",
        "        correct += 1\n",
        "    total += 1\n",
        "\n",
        "print(f\"Accuracy on Story Cloze 2018 (validation): {correct}/{total} = {correct / total:.2%}\")"
      ]
    },
    {
      "cell_type": "markdown",
      "metadata": {
        "id": "Pji-EabAS_TS"
      },
      "source": [
        "# Plotting the results"
      ]
    },
    {
      "cell_type": "code",
      "execution_count": 41,
      "metadata": {
        "colab": {
          "base_uri": "https://localhost:8080/",
          "height": 607
        },
        "executionInfo": {
          "elapsed": 677,
          "status": "ok",
          "timestamp": 1750424652848,
          "user": {
            "displayName": "psoly",
            "userId": "15118615149364233842"
          },
          "user_tz": -180
        },
        "id": "Fn31VcJfTD9s",
        "outputId": "2b955fee-a0ac-4a43-ead3-5e1e9abd6753"
      },
      "outputs": [
        {
          "data": {
            "image/png": "[encoded data removed]",
            "text/plain": [
              "<Figure size 800x600 with 1 Axes>"
            ]
          },
          "metadata": {},
          "output_type": "display_data"
        }
      ],
      "source": [
        "import matplotlib.pyplot as plt\n",
        "\n",
        "# Data: total tokens (2-grams + 3-grams) and corresponding training loss\n",
        "tokens = [200, 2000, 20000, 200000]\n",
        "loss = [6.0089, 5.6549, 5.0345, 4.6514]\n",
        "\n",
        "# Create the plot\n",
        "plt.figure(figsize=(8, 6))\n",
        "plt.plot(tokens, loss, marker='o')\n",
        "plt.xscale('log')  # Use logarithmic scale for better visualization of token growth\n",
        "plt.xlabel('Total number of extra tokens (2-grams + 3-grams)')\n",
        "plt.ylabel('Training Loss')\n",
        "plt.title('Training Loss vs Number of Tokens (Trained on Wikitext)')\n",
        "plt.grid(True)\n",
        "plt.tight_layout()\n",
        "plt.show()\n"
      ]
    },
    {
      "cell_type": "code",
      "execution_count": 36,
      "metadata": {
        "colab": {
          "base_uri": "https://localhost:8080/",
          "height": 607
        },
        "executionInfo": {
          "elapsed": 419,
          "status": "ok",
          "timestamp": 1750423826432,
          "user": {
            "displayName": "psoly",
            "userId": "15118615149364233842"
          },
          "user_tz": -180
        },
        "id": "nxCMfxSVVatH",
        "outputId": "a4d86551-af5f-4408-b8c2-57e390305cb3"
      },
      "outputs": [
        {
          "data": {
            "image/png": "[encoded data removed]",
            "text/plain": [
              "<Figure size 800x600 with 1 Axes>"
            ]
          },
          "metadata": {},
          "output_type": "display_data"
        }
      ],
      "source": [
        "import matplotlib.pyplot as plt\n",
        "\n",
        "# Data: number of extra tokens and corresponding accuracy on HellaSWAG\n",
        "extra_params = [0, 153600, 1536000, 15360000, 153600000]\n",
        "accuracy = [25.6, 26.2, 27.4, 27.6, 28.8]\n",
        "\n",
        "# Create the plot\n",
        "plt.figure(figsize=(8, 6))\n",
        "plt.plot(extra_params, accuracy, marker='o')\n",
        "plt.xscale('log')  # Log scale to visualize the growth\n",
        "plt.xlabel('Number of Extra Trainable Parameters (2-grams + 3-grams)')\n",
        "plt.ylabel('Accuracy (%)')\n",
        "plt.title('HellaSWAG Accuracy vs Number of Extra Trainable Parameters')\n",
        "plt.grid(True)\n",
        "plt.tight_layout()\n",
        "plt.show()\n"
      ]
    },
    {
      "cell_type": "code",
      "execution_count": 38,
      "metadata": {
        "colab": {
          "base_uri": "https://localhost:8080/",
          "height": 607
        },
        "executionInfo": {
          "elapsed": 698,
          "status": "ok",
          "timestamp": 1750424395654,
          "user": {
            "displayName": "psoly",
            "userId": "15118615149364233842"
          },
          "user_tz": -180
        },
        "id": "OYGHqxz7a6ha",
        "outputId": "a7fc0830-e650-425d-fdec-2f8b67ad6caf"
      },
      "outputs": [
        {
          "data": {
            "image/png": "[encoded data removed]",
            "text/plain": [
              "<Figure size 800x600 with 1 Axes>"
            ]
          },
          "metadata": {},
          "output_type": "display_data"
        }
      ],
      "source": [
        "extra_params = [0, 153600, 1536000, 15360000, 153600000]\n",
        "accuracy = [49.2, 50.6, 51.4, 51.6, 56.4]\n",
        "\n",
        "plt.figure(figsize=(8, 6))\n",
        "plt.plot(extra_params, accuracy, marker='o')\n",
        "plt.xscale('log')\n",
        "plt.xlabel('Number of Extra Trainable Parameters (2-grams + 3-grams)')\n",
        "plt.ylabel('Accuracy (%)')\n",
        "plt.title('Story Cloze Accuracy vs Number of Extra Trainable Parameters')\n",
        "plt.grid(True)\n",
        "plt.tight_layout()\n",
        "plt.show()\n"
      ]
    },
    {
      "cell_type": "code",
      "execution_count": 39,
      "metadata": {
        "colab": {
          "base_uri": "https://localhost:8080/",
          "height": 607
        },
        "executionInfo": {
          "elapsed": 354,
          "status": "ok",
          "timestamp": 1750424418594,
          "user": {
            "displayName": "psoly",
            "userId": "15118615149364233842"
          },
          "user_tz": -180
        },
        "id": "uOkwybP0bOf5",
        "outputId": "5e62392d-6f1f-4e65-de29-a73709a0bae2"
      },
      "outputs": [
        {
          "data": {
            "image/png": "[encoded data removed]",
            "text/plain": [
              "<Figure size 800x600 with 1 Axes>"
            ]
          },
          "metadata": {},
          "output_type": "display_data"
        }
      ],
      "source": [
        "extra_params = [0, 153600, 1536000, 15360000, 153600000]\n",
        "accuracy = [54.4, 51.8, 49.2, 51.4, 50.6]\n",
        "\n",
        "plt.figure(figsize=(8, 6))\n",
        "plt.plot(extra_params, accuracy, marker='o')\n",
        "plt.xscale('log')\n",
        "plt.xlabel('Number of Extra Trainable Parameters (2-grams + 3-grams)')\n",
        "plt.ylabel('Accuracy (%)')\n",
        "plt.title('PIQA Accuracy vs Number of Extra Trainable Parameters')\n",
        "plt.grid(True)\n",
        "plt.tight_layout()\n",
        "plt.show()\n"
      ]
    },
    {
      "cell_type": "code",
      "execution_count": 40,
      "metadata": {
        "colab": {
          "base_uri": "https://localhost:8080/",
          "height": 707
        },
        "executionInfo": {
          "elapsed": 456,
          "status": "ok",
          "timestamp": 1750424446033,
          "user": {
            "displayName": "psoly",
            "userId": "15118615149364233842"
          },
          "user_tz": -180
        },
        "id": "SaF3UGLUbVrg",
        "outputId": "0abaf2ed-7ebd-4624-be77-a1827caba905"
      },
      "outputs": [
        {
          "data": {
            "image/png": "[encoded data removed]",
            "text/plain": [
              "<Figure size 1000x700 with 1 Axes>"
            ]
          },
          "metadata": {},
          "output_type": "display_data"
        }
      ],
      "source": [
        "extra_params = [0, 153600, 1536000, 15360000, 153600000]\n",
        "\n",
        "hellaswag = [25.6, 26.2, 27.4, 27.6, 28.8]\n",
        "piqa = [54.4, 51.8, 49.2, 51.4, 50.6]\n",
        "story_cloze = [49.2, 50.6, 51.4, 51.6, 56.4]\n",
        "\n",
        "plt.figure(figsize=(10, 7))\n",
        "plt.plot(extra_params, hellaswag, marker='o', label='HellaSWAG')\n",
        "plt.plot(extra_params, piqa, marker='s', label='PIQA')\n",
        "plt.plot(extra_params, story_cloze, marker='^', label='Story Cloze')\n",
        "\n",
        "plt.xscale('log')\n",
        "plt.xlabel('Number of Extra Trainable Parameters (2-grams + 3-grams)')\n",
        "plt.ylabel('Accuracy (%)')\n",
        "plt.title('Accuracy vs Number of Extra Trainable Parameters Across Datasets')\n",
        "plt.grid(True)\n",
        "plt.legend()\n",
        "plt.tight_layout()\n",
        "plt.show()\n"
      ]
    }
  ],
  "metadata": {
    "accelerator": "GPU",
    "colab": {
      "authorship_tag": "ABX9TyOnY4GdDb2TKKrIaG5Z3aXA",
      "gpuType": "A100",
      "machine_shape": "hm",
      "provenance": []
    },
    "kernelspec": {
      "display_name": "Python 3",
      "name": "python3"
    },
    "language_info": {
      "name": "python"
    }
  },
  "nbformat": 4,
  "nbformat_minor": 0
}